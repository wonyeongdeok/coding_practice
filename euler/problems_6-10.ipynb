{
 "cells": [
  {
   "cell_type": "markdown",
   "id": "9f15e753-e91b-4e15-ae0c-b918358079e0",
   "metadata": {},
   "source": [
    "## **6. 1부터 100까지 \"제곱의 합\"과 \"합의 제곱\"의 차는?**"
   ]
  },
  {
   "cell_type": "markdown",
   "id": "bc942349-cfd7-4edf-a804-15ea0cda95ae",
   "metadata": {},
   "source": [
    "1부터 10까지 자연수를 각각 제곱해 더하면 다음과 같습니다 (제곱의 합).\n",
    "\n",
    "12 + 22 + ... + 102 = 385\n",
    "1부터 10을 먼저 더한 다음에 그 결과를 제곱하면 다음과 같습니다 (합의 제곱).\n",
    "\n",
    "(1 + 2 + ... + 10)2 = 552 = 3025\n",
    "따라서 1부터 10까지 자연수에 대해 \"합의 제곱\"과 \"제곱의 합\" 의 차이는 3025 - 385 = 2640 이 됩니다.\n",
    "\n",
    "그러면 1부터 100까지 자연수에 대해 \"합의 제곱\"과 \"제곱의 합\"의 차이는 얼마입니까?"
   ]
  },
  {
   "cell_type": "markdown",
   "id": "22c797d5-eb12-4556-a0a7-b96c4a4cc939",
   "metadata": {},
   "source": [
    "- 자연수 시작 값과 끝 값 설정\n",
    "- 시작 값부터 끝 값까지의 합의 제곱과 제곱의 합 따로 구하기\n",
    "- 합의 제곱과 제곱의 합 차이 구하기"
   ]
  },
  {
   "cell_type": "code",
   "execution_count": 2,
   "id": "8edb67a0-6622-4710-95e4-6c467d2e855a",
   "metadata": {},
   "outputs": [
    {
     "name": "stdout",
     "output_type": "stream",
     "text": [
      "square_of_sum: 25502500\n",
      "sum_of_square: 338350\n",
      "result: 25164150\n"
     ]
    }
   ],
   "source": [
    "start_num = 1\n",
    "end_num = 100\n",
    "\n",
    "sum_of_square = 0\n",
    "for i in range(start_num, end_num + 1):\n",
    "    sum_of_square += i ** 2\n",
    "\n",
    "natural_num_sum = 0\n",
    "for j in range(start_num, end_num + 1):\n",
    "    natural_num_sum += j\n",
    "square_of_sum = natural_num_sum ** 2\n",
    "\n",
    "print(f'square_of_sum: {square_of_sum}')\n",
    "print(f'sum_of_square: {sum_of_square}')\n",
    "\n",
    "result = square_of_sum - sum_of_square\n",
    "print(f\"result: {result}\")"
   ]
  },
  {
   "cell_type": "markdown",
   "id": "0eef77cb-bbfd-4802-b812-8d8b6c9f19ac",
   "metadata": {},
   "source": [
    "## **7. 10001번째의 소수**"
   ]
  },
  {
   "cell_type": "markdown",
   "id": "cd806188-0b98-4112-b1fc-79655042e02d",
   "metadata": {},
   "source": [
    "소수를 크기 순으로 나열하면 2, 3, 5, 7, 11, 13, ... 과 같이 됩니다.\n",
    "\n",
    "이 때 10,001번째의 소수를 구하세요."
   ]
  },
  {
   "cell_type": "markdown",
   "id": "9ac01fb6-b8d4-465b-8f4a-88c2cb40ec14",
   "metadata": {},
   "source": [
    "- 소수 구하기\n",
    "- 10,001번째 소수를 발견하면 스탑 "
   ]
  },
  {
   "cell_type": "code",
   "execution_count": null,
   "id": "b6b5d750-32ed-4b39-8139-9786e08b5e86",
   "metadata": {},
   "outputs": [],
   "source": [
    "target_idx = 10001\n",
    "prime_num_list = list()\n",
    "i = 1\n",
    "while True:\n",
    "    cnt = 0\n",
    "    for j in range(1, i + 1):\n",
    "        if i % j == 0:\n",
    "            cnt += 1\n",
    "        else:\n",
    "            continue\n",
    "    \n",
    "    if cnt == 2:\n",
    "        prime_num_list.append(i)\n",
    "    \n",
    "    if len(prime_num_list) == target_idx:\n",
    "        break\n",
    "    else:\n",
    "        i += 1\n",
    "\n",
    "result = prime_num_list[-1]\n",
    "print(f\"result: {result}\")"
   ]
  },
  {
   "cell_type": "code",
   "execution_count": null,
   "id": "3bde6099-78ca-49a9-b339-c60d1d27ac09",
   "metadata": {},
   "outputs": [],
   "source": []
  }
 ],
 "metadata": {
  "kernelspec": {
   "display_name": "Python 3 (ipykernel)",
   "language": "python",
   "name": "python3"
  },
  "language_info": {
   "codemirror_mode": {
    "name": "ipython",
    "version": 3
   },
   "file_extension": ".py",
   "mimetype": "text/x-python",
   "name": "python",
   "nbconvert_exporter": "python",
   "pygments_lexer": "ipython3",
   "version": "3.7.15"
  }
 },
 "nbformat": 4,
 "nbformat_minor": 5
}
