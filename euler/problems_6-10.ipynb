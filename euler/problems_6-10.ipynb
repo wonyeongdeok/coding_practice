{
 "cells": [
  {
   "cell_type": "markdown",
   "id": "9f15e753-e91b-4e15-ae0c-b918358079e0",
   "metadata": {},
   "source": [
    "## **6. 1부터 100까지 \"제곱의 합\"과 \"합의 제곱\"의 차는?**"
   ]
  },
  {
   "cell_type": "markdown",
   "id": "bc942349-cfd7-4edf-a804-15ea0cda95ae",
   "metadata": {},
   "source": [
    "1부터 10까지 자연수를 각각 제곱해 더하면 다음과 같습니다 (제곱의 합).\n",
    "\n",
    "12 + 22 + ... + 102 = 385\n",
    "1부터 10을 먼저 더한 다음에 그 결과를 제곱하면 다음과 같습니다 (합의 제곱).\n",
    "\n",
    "(1 + 2 + ... + 10)2 = 552 = 3025\n",
    "따라서 1부터 10까지 자연수에 대해 \"합의 제곱\"과 \"제곱의 합\" 의 차이는 3025 - 385 = 2640 이 됩니다.\n",
    "\n",
    "그러면 1부터 100까지 자연수에 대해 \"합의 제곱\"과 \"제곱의 합\"의 차이는 얼마입니까?"
   ]
  },
  {
   "cell_type": "markdown",
   "id": "22c797d5-eb12-4556-a0a7-b96c4a4cc939",
   "metadata": {},
   "source": [
    "- 자연수 시작 값과 끝 값 설정\n",
    "- 시작 값부터 끝 값까지의 합의 제곱과 제곱의 합 따로 구하기\n",
    "- 합의 제곱과 제곱의 합 차이 구하기"
   ]
  },
  {
   "cell_type": "code",
   "execution_count": 2,
   "id": "8edb67a0-6622-4710-95e4-6c467d2e855a",
   "metadata": {},
   "outputs": [
    {
     "name": "stdout",
     "output_type": "stream",
     "text": [
      "square_of_sum: 25502500\n",
      "sum_of_square: 338350\n",
      "result: 25164150\n"
     ]
    }
   ],
   "source": [
    "start_num = 1\n",
    "end_num = 100\n",
    "\n",
    "sum_of_square = 0\n",
    "for i in range(start_num, end_num + 1):\n",
    "    sum_of_square += i ** 2\n",
    "\n",
    "natural_num_sum = 0\n",
    "for j in range(start_num, end_num + 1):\n",
    "    natural_num_sum += j\n",
    "square_of_sum = natural_num_sum ** 2\n",
    "\n",
    "print(f'square_of_sum: {square_of_sum}')\n",
    "print(f'sum_of_square: {sum_of_square}')\n",
    "\n",
    "result = square_of_sum - sum_of_square\n",
    "print(f\"result: {result}\")"
   ]
  },
  {
   "cell_type": "markdown",
   "id": "0eef77cb-bbfd-4802-b812-8d8b6c9f19ac",
   "metadata": {},
   "source": [
    "## **7. 10001번째의 소수**"
   ]
  },
  {
   "cell_type": "markdown",
   "id": "cd806188-0b98-4112-b1fc-79655042e02d",
   "metadata": {},
   "source": [
    "소수를 크기 순으로 나열하면 2, 3, 5, 7, 11, 13, ... 과 같이 됩니다.\n",
    "\n",
    "이 때 10,001번째의 소수를 구하세요."
   ]
  },
  {
   "cell_type": "markdown",
   "id": "9ac01fb6-b8d4-465b-8f4a-88c2cb40ec14",
   "metadata": {},
   "source": [
    "- 소수 구하기\n",
    "- 10,001번째 소수를 발견하면 스탑 "
   ]
  },
  {
   "cell_type": "code",
   "execution_count": null,
   "id": "b6b5d750-32ed-4b39-8139-9786e08b5e86",
   "metadata": {},
   "outputs": [],
   "source": [
    "target_idx = 10001\n",
    "prime_num_list = list()\n",
    "i = 1\n",
    "while True:\n",
    "    cnt = 0\n",
    "    for j in range(1, i + 1):\n",
    "        if i % j == 0:\n",
    "            cnt += 1\n",
    "        else:\n",
    "            continue\n",
    "    \n",
    "    if cnt == 2:\n",
    "        prime_num_list.append(i)\n",
    "    \n",
    "    if len(prime_num_list) == target_idx:\n",
    "        break\n",
    "    else:\n",
    "        i += 1\n",
    "\n",
    "result = prime_num_list[-1]\n",
    "print(f\"result: {result}\")"
   ]
  },
  {
   "cell_type": "markdown",
   "id": "a51e7ec0-1f8f-40a3-a07a-a57737277aae",
   "metadata": {},
   "source": [
    "## **8. 1000자리 수 안에서 연속된 13개 숫자 곱의 최댓값**"
   ]
  },
  {
   "cell_type": "markdown",
   "id": "305af59c-5342-4686-8128-9d7f7eb295fb",
   "metadata": {},
   "source": [
    "여기서 붉게 표시된 71112의 경우 연속한 5개 숫자 7, 1, 1, 1, 2를 모두 곱하면 14입니다.\n",
    "또, 그 다음 연속한 5개 숫자 11121의 경우 1, 1, 1, 2, 1을 모두 곱하면 2입니다.\n",
    "\n",
    "이런 식으로 맨 처음 (7 × 3 × 1 × 6 × 7 = 882) 부터 맨 끝 (6 × 3 × 4 × 5 × 0 = 0) 까지 연속한 5개 숫자의 곱을 구할 수 있습니다.\n",
    "\n",
    "이렇게 구할 수 있는 연속한 5개 숫자의 곱 중에서 가장 큰 값은 40824 입니다.\n",
    "\n",
    "연속한 4개 숫자의 곱 중에서 가장 큰 값은 파랗게 표시된 9 × 9 × 8 × 9 = 5832 입니다.\n",
    "\n",
    "위의 1000자리 수에서 연속한 13개 숫자의 곱이 가장 큰 값은 얼마입니까?"
   ]
  },
  {
   "cell_type": "markdown",
   "id": "cf7b1e81-c89f-48a0-96e5-bd98b46b377e",
   "metadata": {},
   "source": [
    "- 16자리 수에서 연속한 13개 숫자의 곱을 구할 수 있는 개수는 4개\n",
    "- 즉, n자리 수에서 연속한 k개 숫자의 곱을 구할 수 있는 개수는 n-k+1"
   ]
  },
  {
   "cell_type": "code",
   "execution_count": null,
   "id": "52e7d90b-98df-49a7-8b5d-0e91783b5694",
   "metadata": {
    "collapsed": true,
    "jupyter": {
     "outputs_hidden": true
    },
    "tags": []
   },
   "outputs": [
    {
     "name": "stdin",
     "output_type": "stream",
     "text": [
      "연속된 n자리 수 입력: 73167176531330624919225119674426574742355349194934 96983520312774506326239578318016984801869478851843 85861560789112949495459501737958331952853208805511 12540698747158523863050715693290963295227443043557 66896648950445244523161731856403098711121722383113 62229893423380308135336276614282806444486645238749 30358907296290491560440772390713810515859307960866 70172427121883998797908792274921901699720888093776 65727333001053367881220235421809751254540594752243 52584907711670556013604839586446706324415722155397 53697817977846174064955149290862569321978468622482 83972241375657056057490261407972968652414535100474 82166370484403199890008895243450658541227588666881 16427171479924442928230863465674813919123162824586 17866458359124566529476545682848912883142607690042 24219022671055626321111109370544217506941658960408 07198403850962455444362981230987879927244284909188 84580156166097919133875499200524063689912560717606 05886116467109405077541002256983155200055935729725 71636269561882670428252483600823257530420752963450\n",
      "연속으로 곱할 k 입력: 13\n"
     ]
    },
    {
     "name": "stdout",
     "output_type": "stream",
     "text": [
      "정답: 23514624000\n"
     ]
    }
   ],
   "source": [
    "from functools import reduce\n",
    "\n",
    "n = input('연속된 n자리 수 입력:').replace(' ', '') # 50자리 다음 공백 문자 존재하므로 제거\n",
    "k = int(input('연속으로 곱할 k 입력:'))\n",
    "\n",
    "def multiply(arr: list) -> int:\n",
    "    return reduce(lambda x, y: x * y, arr)\n",
    "\n",
    "ans = 0\n",
    "for i in range(len(n_arr)-k+1):\n",
    "    trg_arr = n_arr[i: i+13]\n",
    "    multi_res = multiply(trg_arr)\n",
    "    if ans < multi_res:\n",
    "        ans = multi_res\n",
    "print('정답:', ans)"
   ]
  },
  {
   "cell_type": "markdown",
   "id": "21858e82-d15d-46a1-b3ea-3b0173acaa40",
   "metadata": {},
   "source": [
    "## **9. a + b + c = 1000 이 되는 피타고라스 수**"
   ]
  },
  {
   "cell_type": "markdown",
   "id": "5cea2b1c-dcec-4ff7-86b2-ae49367a8b59",
   "metadata": {},
   "source": [
    "세 자연수 a, b, c 가 피타고라스 정리 a2 + b2 = c2 를 만족하면 피타고라스 수라고 부릅니다 (여기서 a < b < c ).\n",
    "예를 들면 32 + 42 = 9 + 16 = 25 = 52이므로 3, 4, 5는 피타고라스 수입니다.\n",
    "\n",
    "a + b + c = 1000 인 피타고라스 수 a, b, c는 한 가지 뿐입니다. 이 때, a × b × c 는 얼마입니까?"
   ]
  },
  {
   "cell_type": "code",
   "execution_count": null,
   "id": "a870fc84-bd2b-4b13-b075-ac853f4a572b",
   "metadata": {},
   "outputs": [],
   "source": []
  },
  {
   "cell_type": "markdown",
   "id": "1885bce8-a383-4f78-8a4e-25c2191c3cfa",
   "metadata": {},
   "source": [
    "## **10. 이백만 이하 소수의 합**"
   ]
  },
  {
   "cell_type": "markdown",
   "id": "dae6182a-b0b9-49d4-bb81-e56a0d70494a",
   "metadata": {},
   "source": [
    "10 이하의 소수를 모두 더하면 2 + 3 + 5 + 7 = 17 이 됩니다.\n",
    "\n",
    "이백만(2,000,000) 이하 소수의 합은 얼마입니까?"
   ]
  },
  {
   "cell_type": "markdown",
   "id": "76d9f40a-d892-4402-bf81-90815a46bec2",
   "metadata": {},
   "source": [
    "- 소수(prime number)의 조건\n",
    "    - 1보다 큰 자연수일 것\n",
    "    - 1과 자기 자신 외의 약수를 가지지 않을 것"
   ]
  },
  {
   "cell_type": "code",
   "execution_count": 71,
   "id": "5a7de228-70d3-469a-852e-133dc2cc9380",
   "metadata": {},
   "outputs": [],
   "source": [
    "def check_prime_num(num: int) -> bool:\n",
    "    res = True\n",
    "    for i in range(2, num):\n",
    "        # num을 i로 나눴을 때 나머지가 0이라는 것은 1과 자기 자신 외 약수가 있음을 의미\n",
    "        if num % i == 0:\n",
    "            res = False\n",
    "    return res"
   ]
  },
  {
   "cell_type": "code",
   "execution_count": null,
   "id": "5f51ee46-65e5-45b9-817d-6f19297013cb",
   "metadata": {},
   "outputs": [
    {
     "name": "stdin",
     "output_type": "stream",
     "text": [
      " 2000000\n"
     ]
    }
   ],
   "source": [
    "n = int(input())\n",
    "ans = 0\n",
    "for num in range(2, n+1):\n",
    "    is_prime_num = check_prime_num(num)\n",
    "    if is_prime_num:\n",
    "        ans += num\n",
    "print('정답:', ans)"
   ]
  },
  {
   "cell_type": "code",
   "execution_count": null,
   "id": "bbd7f5ae-c620-4b0b-8784-9f1a98983c7e",
   "metadata": {},
   "outputs": [],
   "source": []
  }
 ],
 "metadata": {
  "kernelspec": {
   "display_name": "Python 3 (ipykernel)",
   "language": "python",
   "name": "python3"
  },
  "language_info": {
   "codemirror_mode": {
    "name": "ipython",
    "version": 3
   },
   "file_extension": ".py",
   "mimetype": "text/x-python",
   "name": "python",
   "nbconvert_exporter": "python",
   "pygments_lexer": "ipython3",
   "version": "3.7.15"
  }
 },
 "nbformat": 4,
 "nbformat_minor": 5
}
